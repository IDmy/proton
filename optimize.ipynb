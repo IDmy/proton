{
 "cells": [
  {
   "cell_type": "markdown",
   "metadata": {
    "run_control": {
     "frozen": false,
     "read_only": false
    }
   },
   "source": [
    "<h1>Proton Therapy Optimization</h1>"
   ]
  },
  {
   "cell_type": "markdown",
   "metadata": {
    "run_control": {
     "frozen": false,
     "read_only": false
    }
   },
   "source": [
    "## Naive modeling\n",
    "The first idea that comes to mind is to make a straight forward mathematical translation of the oral problem description. That would be to set a vector of $i$ integer variables $x_{i}$, representing the number of proton fractions that should be performed to patient $i$. \n",
    "\n",
    "We would then symbolize our input matrix as $c_{ij}$: the benefit of offering $j$ proton fractions to patient $i$. While this is a very intuitive model it suffers from a very non linear object function. In the simplest case where we would like to optimize the sum or average BED, the object functions to be maximized would be:\n",
    "\n",
    "\\begin{equation*}\n",
    "    \\begin{aligned}\n",
    "        \\underset{x}{\\text{max}}\n",
    "            & \\sum_{i} c_{ix_{i}}\\cdot x_{i} \n",
    "    \\end{aligned}     \n",
    "\\end{equation*}\n",
    "\n",
    "\n",
    "\n",
    "## A better modeling idea\n",
    "\n",
    "Instead we would prefer to go with a linear model. For that reason we could select another set of decision variables, that is a binary matrix $x_{ij}$ where a value of 1 denotes that $j$ fractions should be performed on patient $i$. Obviously we should constraint every rows sum to 1 (a patient will receive 0,1, ... **or** N fractions).\n",
    "\n",
    "Our object function can now be expressed as elegandly as:\n",
    "\\begin{equation*}\n",
    "    \\begin{aligned}\n",
    "            F(x)=  \\sum_{ij} c_{ij}\\cdot x_{ij} \n",
    "    \\end{aligned}     \n",
    "\\end{equation*}\n",
    "\n",
    "\n",
    "This is obviously as linear as it gets. Lets code it!"
   ]
  },
  {
   "cell_type": "code",
   "execution_count": null,
   "metadata": {
    "ExecuteTime": {
     "end_time": "2017-05-23T12:08:41.999217",
     "start_time": "2017-05-23T12:08:41.995224"
    },
    "collapsed": true,
    "run_control": {
     "frozen": false,
     "read_only": false
    }
   },
   "outputs": [],
   "source": [
    "# GUROBI must be installed and a licence file must be discoverable in one of the default locations\n",
    "from gurobipy import *\n",
    "# Get some additional dependencies\n",
    "import matplotlib.pyplot as plt\n",
    "import pandas as pd\n",
    "import numpy as np\n",
    "import time"
   ]
  },
  {
   "cell_type": "code",
   "execution_count": null,
   "metadata": {
    "ExecuteTime": {
     "end_time": "2017-05-23T12:08:42.143890",
     "start_time": "2017-05-23T12:08:42.136856"
    },
    "collapsed": false,
    "run_control": {
     "frozen": false,
     "read_only": false
    }
   },
   "outputs": [],
   "source": [
    "# Read the dataset into a 2d array. benefit[i,j] is the benefit patient i will get from j fractions\n",
    "data = pd.read_csv('data/PayoffMatrix.txt', delim_whitespace = True, header = None)\n",
    "benefit = data.values"
   ]
  },
  {
   "cell_type": "code",
   "execution_count": null,
   "metadata": {
    "ExecuteTime": {
     "end_time": "2017-05-23T12:08:42.306648",
     "start_time": "2017-05-23T12:08:42.297605"
    },
    "collapsed": true,
    "run_control": {
     "frozen": false,
     "read_only": false
    }
   },
   "outputs": [],
   "source": [
    "class ProtonOptimizer(object):\n",
    "    \"\"\"\n",
    "    An abstract class defining a common interface to be used by all our future models.\n",
    "    Make sure you comply to the API meaning that your concrete class should:\n",
    "    1) Be constructed by providing the BED values as a 2D np array and the capacity\n",
    "    2) It should return its result by implementing the get_optimum() method\n",
    "    \"\"\"\n",
    "    def __init__(self, BED, capacity = 100, model_name = 'abstract_therapy'):\n",
    "        raise NotImplementedError(\"You cannot construct an abstract class\")\n",
    "    \n",
    "    def get_optimum():\n",
    "        \"\"\"Returns a dictionary (int -> int) from patient ID to fractions\"\"\"\n",
    "        return {}\n",
    "    \n",
    "    def pretty_print():\n",
    "        \"\"\"Override to print your models output in a meaningful way for debugging purposes\"\"\"\n",
    "        print(\"The optimum is \" + str(self.get_optimum()))"
   ]
  },
  {
   "cell_type": "code",
   "execution_count": null,
   "metadata": {
    "ExecuteTime": {
     "end_time": "2017-05-23T12:08:42.568869",
     "start_time": "2017-05-23T12:08:42.506581"
    },
    "collapsed": false,
    "run_control": {
     "frozen": false,
     "read_only": false
    }
   },
   "outputs": [],
   "source": [
    "class LPOptimizer(ProtonOptimizer):\n",
    "    \"\"\"Concrete implementation of the ProtonOptimizer interface\"\"\"\n",
    "    def __init__(self, BED, capacity = 100, model_name = 'proton_therapy'):\n",
    "        self._BED = BED\n",
    "        num_patients, max_fractions_per_patient = BED.shape\n",
    "        self.patients = [i for i in range(num_patients)]\n",
    "        self.fractions = [j for j in range(max_fractions_per_patient)]\n",
    "        self.m = Model(model_name)\n",
    "        \n",
    "        # Set binary decision variables\n",
    "        self.x = self.m.addVars(num_patients, max_fractions_per_patient, vtype = GRB.BINARY) \n",
    "        \n",
    "        # Only one choice of fractions per patient is valid\n",
    "        self.m.addConstrs(quicksum(self.x[i,j] for j in self.fractions) == 1 for i in self.patients)\n",
    "        \n",
    "        # We can only perform so many proton therapies per week\n",
    "        self.m.addConstr(quicksum(\n",
    "            quicksum(self.x[i,j] * self.fractions[j] for j in self.fractions) \n",
    "            for i in self.patients) <= capacity)\n",
    "        self.m.update()\n",
    "        \n",
    "        self.optimum = {}\n",
    "\n",
    "        \n",
    "    def _solve(self, debug = False):\n",
    "        # Set objective\n",
    "        self.m.setObjective(quicksum(\n",
    "            self.x[i,j] * self._BED[i,j] for i in self.patients for j in self.fractions),\n",
    "                            GRB.MAXIMIZE)\n",
    "        \n",
    "        self.m.setParam('OutputFlag', debug)\n",
    "        self.m.update()\n",
    "        self.m.optimize()\n",
    "        if self.m.status == GRB.Status.OPTIMAL:\n",
    "            solution = self.m.getAttr(\"x\", self.x)\n",
    "            for i in self.patients:\n",
    "                for j in self.fractions:\n",
    "                    if(solution[i,j] == 1):\n",
    "                        self.optimum[i] = j\n",
    "                        break\n",
    "        else:\n",
    "            print(\"Infeasible model\")\n",
    "            \n",
    "    def get_total_BED(self):\n",
    "        return self.m.getObjective().getValue()\n",
    "        \n",
    "    def pretty_print(self):\n",
    "        solution = self.get_optimum()\n",
    "        for patient, fractions in solution.items():\n",
    "            print((\"Patient \" + str(patient) + \" should receive \" + str(fractions) + \" fractions\"))\n",
    "        \n",
    "    def get_optimum(self):\n",
    "        if not self.optimum:\n",
    "            self._solve()\n",
    "        return self.optimum"
   ]
  },
  {
   "cell_type": "markdown",
   "metadata": {
    "run_control": {
     "frozen": false,
     "read_only": false
    }
   },
   "source": [
    "<h3> Dealing with expensive parameter lookup </h3>\n",
    "\n",
    "\n",
    "Although the linear model developed above guarantees a global optimum, it has to take into consideration\n",
    "every parameter, that is every value in the provided BED matrix. However lookups in the BED matrix are time expensive (~ 5 minutes per lookup). We would therefore like to come up with an accurate estimation of the BED matrix, using (linear) interpolation.\n",
    "\n",
    "Below we see a prototype implementation. The number of actual points observed can be tuned, introducing a tradeoff between accuracy and time spent."
   ]
  },
  {
   "cell_type": "code",
   "execution_count": null,
   "metadata": {
    "ExecuteTime": {
     "end_time": "2017-05-23T12:08:42.949204",
     "start_time": "2017-05-23T12:08:42.883902"
    },
    "collapsed": false,
    "run_control": {
     "frozen": false,
     "read_only": false
    },
    "scrolled": true
   },
   "outputs": [],
   "source": [
    "class LinearBEDPredictor(object):\n",
    "    \"\"\"\n",
    "    A base implementation of BED matrix estimation. Given the real BED matrix and \n",
    "    a time cost per access, the predictor can output an estimation of the BED matrix along \n",
    "    with the time needed to produce it.\n",
    "    \n",
    "    EXTENSIONS: If you want to try another predictor (f.e non linear interpolation or series prediction)\n",
    "    all you have to do is inherit this base and override the estimate() function. Make sure you\n",
    "    obey its contract: it should return the predicted BED matrix as a 2D np.array. Everything else will \n",
    "    just work.\n",
    "    \"\"\"\n",
    "    def __init__(self, BED):\n",
    "        self._BED = BED\n",
    "        self.num_patients, self.max_fractions_per_patient = BED.shape\n",
    "        self.access_counter = 0\n",
    "        self._accessed = set()\n",
    "\n",
    "    def _getBED(self, i, j):\n",
    "        \"\"\"\n",
    "        A class method simulating the actual generation of BED values.\n",
    "        If the requested value has been already computed it returns without delay, else it\n",
    "        delays for the time needed to compute it.\n",
    "        \"\"\" \n",
    "        if (i,j) not in self._accessed:\n",
    "            self.access_counter += 1\n",
    "            self._accessed.add((i,j))\n",
    "            # replace this by actual time cost, i.e 5*60 seconds to simulate real world application.\n",
    "            time.sleep(0)\n",
    "\n",
    "        return self._BED[i,j]\n",
    "\n",
    "    def root_mean_square_error(self, granularity):\n",
    "        \"\"\"\n",
    "        Computes and returns the mean squared error between the actual and the estimated BED\n",
    "        matrix.\n",
    "        \"\"\"\n",
    "        estimated = self.estimate(granularity)\n",
    "        difference = estimated - self._BED\n",
    "        return np.sqrt((difference ** 2).mean(axis=None))\n",
    "\n",
    "        \n",
    "    def estimate(self, granularity):\n",
    "        \"\"\"\n",
    "        Check some points in regural intervals and linearly interpolate the rest.\n",
    "        \n",
    "        @param granurality: number of actual measurements to check\n",
    "        @return estimate, cost: estimated BED matrix, time cost in seconds to compute it\n",
    "        \"\"\"\n",
    "        if(granularity <= 1 or granularity > (self.max_fractions_per_patient - 1) / 2):\n",
    "            print(\"Granularity should be between 2 and <num_columns/2>!\")\n",
    "            return None\n",
    "  \n",
    "        self.access_counter = 0\n",
    "        self._accessed = set()\n",
    "        \n",
    "        div = (self.max_fractions_per_patient - 1) / (granularity - 1) \n",
    "        \n",
    "        # Retrieve actual values with the simulated getter - This is time consuming.\n",
    "        actual_indeces = [int(i*div) for i in range(granularity)] \n",
    "        \n",
    "        actual_values = [self._getBED(i,j) for i in range(self.num_patients) for j in actual_indeces]\n",
    "        \n",
    "        estimate = np.empty(shape = (self.num_patients, self.max_fractions_per_patient)) * np.nan\n",
    "        # Init with actual measurements  \n",
    "        estimate[:, actual_indeces] = np.reshape(actual_values, (self.num_patients, len(actual_indeces)))\n",
    "        # Interpolate the rest linearly\n",
    "        estimate = pd.DataFrame(estimate).interpolate(axis = 1).values\n",
    "        \n",
    "        return estimate\n",
    "\n",
    "x = LinearBEDPredictor(benefit)\n",
    "# What is the estimated BED matrix?\n",
    "estimated = x.estimate(granularity = 6)\n",
    "# How many accesses were needed to compute that estimation?\n",
    "num_accessed = x.access_counter\n",
    "# What is the RMSE of this estimation?\n",
    "rmse = x.root_mean_square_error(granularity = 3)"
   ]
  },
  {
   "cell_type": "code",
   "execution_count": null,
   "metadata": {
    "ExecuteTime": {
     "end_time": "2017-05-23T12:08:43.047187",
     "start_time": "2017-05-23T12:08:43.026062"
    },
    "collapsed": false,
    "run_control": {
     "frozen": false,
     "read_only": false
    },
    "scrolled": false
   },
   "outputs": [],
   "source": [
    "from itertools import chain\n",
    "class BEDPredictorUpperBoundNaive(LinearBEDPredictor):\n",
    "    \"\"\"\n",
    "    This is a class that helps to estimate upper bound of BED using a naive method that assumes\n",
    "    that the all point between x[i] and x[j] will be of a value of x[j].\n",
    "    \"\"\"\n",
    "    \n",
    "    def get_interp_gap(self, accessed_inds, start, end):\n",
    "        \"\"\"Returns how many elements will have the same value betwen two interpolated points.\n",
    "         E.g. if x=2 and x=4 are interpolated, the function return 4-2 = 2. \n",
    "        \"\"\"\n",
    "        if start > end:\n",
    "            raise ValueError(\"Start index cannot be bigger than end index.\")\n",
    "            \n",
    "        if start < 0  or len(accessed_inds) < end + 1: #if the indices are out of range\n",
    "            return 1\n",
    "        \n",
    "        return accessed_inds[start] - accessed_inds[end]\n",
    "    \n",
    "    \n",
    "    def _get_first_n_estimates(self, accessed_inds):\n",
    "        \"\"\"Computes estimates up to the last looked-up index in BED. \n",
    "        E.g. if accessed indeces [0, 8, 15], value 16 is not estimated in this step.\n",
    "        @param accessed_inds: list looked-up indexes in BED\n",
    "        returns: np.array of a shape of (number of patients, first n values)\n",
    "        \"\"\"\n",
    "        # Reverse the indexes, so it is easy to insert max bounds for each value. Max bound of x[i, j] = BED[i, next access value]\n",
    "        accessed_inds_rev = list(reversed(accessed_inds)) \n",
    "        \n",
    "        first_n_estimates = [[self._getBED(i,j)] * self.get_interp_gap(accessed_inds_rev, ind, ind + 1) \\\n",
    "                             for i in range(self.num_patients) for ind, j in enumerate(accessed_inds_rev)]\n",
    "        first_n_estimates = list(itertools.chain.from_iterable(first_n_estimates)) # make the list 1d                \n",
    "        first_n_estimates = np.reshape(first_n_estimates, (self.num_patients, accessed_inds_rev[0] + 1))  #reshape into matrix\n",
    "        first_n_estimates = np.apply_along_axis(lambda row: row[::-1], 1, first_n_estimates) # reversing order \n",
    "        return first_n_estimates\n",
    "    \n",
    "    def _get_last_n_estimates(self, accessed_inds):\n",
    "        \"\"\"Computes estimates after the last looked-up value in BED. \n",
    "        E.g. if accessed indeces [0, 8, 15], value 16 is estimated in this step.\n",
    "        The computation is done using assumption of concativity; the growth of last values will \\\n",
    "        not exceed the growth of first_n_estimates[-1] - first_n_estimates[-2].     \n",
    "        \n",
    "        @param accessed_inds: list looked-up indexes in BED\n",
    "        returns: np.array of a shape of (number of patients, last n values)\n",
    "        \"\"\"        \n",
    "        last_n_est_count = self.max_fractions_per_patient - accessed_inds[-1] - 1 # how many values to ustimate\n",
    "        last_n_estimates = [self._getBED(i, accessed_inds[-1]) + (self._getBED(i, accessed_inds[-1]) - \\\n",
    "                        self._getBED(i, accessed_inds[-2])) * (j+1) for i in range(self.num_patients) \\\n",
    "                            for j in range(last_n_est_count)]        \n",
    "        last_n_estimates = np.reshape(last_n_estimates, (self.num_patients, last_n_est_count)) #reshape into matrix\n",
    "        return last_n_estimates\n",
    "    \n",
    "    def estimate(self, granularity):\n",
    "        \"\"\"\n",
    "        Check some points in regural intervals and linearly interpolate the rest.\n",
    "        \n",
    "        @param granurality: number of actual measurements to check\n",
    "        @return estimate, cost: estimated BED matrix, time cost in seconds to compute it\n",
    "        \"\"\"\n",
    "        if(granularity <= 1 or granularity > (self.max_fractions_per_patient - 1) / 2):\n",
    "            print(\"Granularity should be between 2 and <num_columns/2>!\")\n",
    "            return None\n",
    "  \n",
    "        self.access_counter = 0\n",
    "        self._accessed = set()\n",
    "        \n",
    "        interp_step = (self.max_fractions_per_patient - 1) / (granularity - 1) #take out -1\n",
    "        \n",
    "        # Which indices will and will not be access in BED look-ups\n",
    "        accessed_inds = [int(i*interp_step) for i in range(granularity)]         \n",
    "        \n",
    "        if 0 not in accessed_inds:\n",
    "            raise NotImplementedError(\"The values to bed access in BED does not contain index 0. Estimation of BED will not work correctly.\")\n",
    "            \n",
    "        first_n_estimates = self._get_first_n_estimates(accessed_inds)\n",
    "        last_n_estimates = self._get_last_n_estimates(accessed_inds)\n",
    "        \n",
    "        BED_estimates = np.c_[ first_n_estimates, last_n_estimates ]  # column-concatente first and last values \n",
    "        return BED_estimates\n",
    "\n",
    "x = BEDPredictorUpperBoundNaive(benefit)\n",
    "# What is the estimated BED matrix?\n",
    "estimated = x.estimate(granularity = 6)\n",
    "#TODO: why first and the second patients are swapped\n",
    "# How many accesses were needed to compute that estimation?\n",
    "num_accessed = x.access_counter\n",
    "# What is the RMSE of this estimation?\n",
    "#rmse = x.root_mean_square_error(granularity = 3)\n"
   ]
  },
  {
   "cell_type": "markdown",
   "metadata": {
    "run_control": {
     "frozen": false,
     "read_only": false
    }
   },
   "source": [
    "<h3> How well does our estimator work in practice </h3>\n",
    "\n",
    "We can start by observing the root mean square error of the estimation. However what we really care about, is the difference in the solution that our model outputs, when fed with an approximation of the actual input.\n",
    "\n",
    "Lets observe the performance:"
   ]
  },
  {
   "cell_type": "code",
   "execution_count": null,
   "metadata": {
    "ExecuteTime": {
     "end_time": "2017-05-23T12:10:21.175805",
     "start_time": "2017-05-23T12:10:20.683067"
    },
    "collapsed": false,
    "run_control": {
     "frozen": false,
     "read_only": false
    }
   },
   "outputs": [],
   "source": [
    "class AccuracyHandler:\n",
    "    \"\"\"AccuracyHandler handles evaluating of LP model using different BED matrixes.\"\"\"\n",
    "    \n",
    "    def __init__(self, actual_BED, gran_range):\n",
    "        self.actual_BED = actual_BED\n",
    "        self.gran_range = gran_range\n",
    "\n",
    "    def get_naive_solution(self):\n",
    "        \"Outputs objective value of naive solution using avarage of BED values.\"\n",
    "        naive_BED = np.ones(shape = self.actual_BED.shape) * self.actual_BED.mean()\n",
    "        return self._run_lp_model(naive_BED)\n",
    "        \n",
    "    def get_true_solution(self):\n",
    "        \"Outputs objective value of optimal solution.\"\n",
    "        return self._run_lp_model(self.actual_BED)\n",
    "    \n",
    "    def get_predictor_solution(self, predictor):\n",
    "        \"\"\"Returns a dict of objective values given granularity.\n",
    "        @param predictor: Must be LinearBEDPredictor (inhereted) object.  \n",
    "        \"\"\"\n",
    "        result = {}\n",
    "        for gran in self.gran_range:\n",
    "            # What is the optimum found using our estimation?\n",
    "            estimated = predictor.estimate(granularity = gran)\n",
    "            result[gran] = self._run_lp_model(estimated)\n",
    "        return result\n",
    "    \n",
    "    def _sum_BED(self, BED, solution):\n",
    "        \"\"\"Outputs the total BED of a proposed solution\"\"\"\n",
    "        total = 0\n",
    "        for i,j in solution.items():\n",
    "            total += BED[i,j]\n",
    "        return total\n",
    "    \n",
    "    def _run_lp_model(self, BED, capacity = 100):\n",
    "        \"\"\"\n",
    "        Run a LP model and get the solution given a BED matrix. Be VERY careful here,\n",
    "        the ESTIMATED BED should be used to create and solve the model but the\n",
    "        ACTUAL BED should be used when evaluating the quality of the solution!\n",
    "        \"\"\"\n",
    "        optimizer = LPOptimizer(BED, capacity = capacity)\n",
    "        solution = optimizer.get_optimum()\n",
    "        return self._sum_BED(BED, solution)\n",
    "    \n",
    "    def _get_coords(self, estimates):\n",
    "        \"\"\"Returns x, y coords given a lits of tuples of coords.\"\"\"\n",
    "        coords  = sorted(estimates.items())\n",
    "        x, y = zip(*coords) # unpack a list of pairs into two tuples\n",
    "        return x, y\n",
    "\n",
    "    def get_bound_error(self, lower_bounds, upper_bounds):\n",
    "        \"\"\"Computes percentage difference between lower and upper bounds\n",
    "        @param lower_bounds, upper_bounds: is a dict like {granularity:objective function - BED}\n",
    "        returns: a dict that looks like {granularity:pertance_difference}\n",
    "        \"\"\"\n",
    "        return {i:(upper_bounds[i] - lower_bounds[i]) * 100 / lower_bounds[i] for i in self.gran_range}\n",
    "        \n",
    "    def draw_evaluation_plot(self):   \n",
    "        \"\"\"Draws a plot of granularity with a relationship to different estimators (optimal, linear internpolation..)\"\"\"\n",
    "        low_bound_lin_internp = self.get_predictor_solution(LinearBEDPredictor(self.actual_BED))\n",
    "        upper_bound_naive = self.get_predictor_solution(BEDPredictorUpperBoundNaive(self.actual_BED))\n",
    "        avg_BED = self.get_naive_solution()\n",
    "        optimal_BED = self.get_true_solution()\n",
    "        \n",
    "        x_li, y_li = get_coords(low_bound_lin_internp)\n",
    "        plt.plot(x_li, y_li, label = \"interpolated estimation\")\n",
    "                \n",
    "        x_wn, y_wn = get_coords(upper_bound_naive)\n",
    "        plt.plot(x_wn, y_wn, label = \"upper bound case\")\n",
    "\n",
    "        gran_range = tuple(self.gran_range)\n",
    "        # Plot naive estimation results\n",
    "        plt.plot((1,) + gran_range, [avg_BED] * (len(gran_range) + 1), label = \"naive estimation\", linestyle = 'dashed')\n",
    "\n",
    "        # Plot actual optimum\n",
    "        plt.plot((1,) + gran_range, [optimal_BED] * (len(gran_range) + 1), label = \"actual BED\")\n",
    "\n",
    "        # Edit plot\n",
    "        plt.xlim(1, len(gran_range))\n",
    "        plt.legend(loc='lower right')\n",
    "        plt.title('Accuralcy')\n",
    "        plt.xlabel('points observed')\n",
    "        plt.ylabel('BED')\n",
    "        plt.xticks(gran_range)\n",
    "        plt.show()\n",
    "        \n",
    "ah = AccuracyHandler(benefit, range(2,7))\n",
    "ah.draw_evaluation_plot()\n",
    "lower_bound = ah.get_predictor_solution(LinearBEDPredictor(benefit))\n",
    "upper_bound = ah.get_predictor_solution(BEDPredictorUpperBoundNaive(benefit))\n",
    "\n",
    "print(\"The maximum error between lower and upper bound is \",ah.get_bound_error(lower_bound, upper_bound))    "
   ]
  },
  {
   "cell_type": "markdown",
   "metadata": {
    "run_control": {
     "frozen": false,
     "read_only": false
    }
   },
   "source": [
    "** Lets visualize the effect of granularity on our solution's quality **"
   ]
  },
  {
   "cell_type": "markdown",
   "metadata": {
    "run_control": {
     "frozen": false,
     "read_only": false
    }
   },
   "source": [
    "<h3> Conclusions </h3>\n",
    "\n",
    "\n",
    "The plot above proves that linear interpolation does the trick. The solution reached through cheap estimations \n",
    "is extremely close to the actual optimum:\n",
    "**(less than 1% percent objective loss using only 4 points per patient)**.\n",
    "\n",
    "\n",
    "This result is extremely significant as shown by the performance of the naive estimator: A bad approximation of\n",
    "the BED matrix drastically reduces our solution's quality. This benchmark also shows the motivation of using BED estimations as these can have a huge positive effect on the total BED produced.\n",
    "\n",
    "\n",
    "*This performance should be acceptable in the real world, however even better estimating alternatives could be examined....*"
   ]
  },
  {
   "cell_type": "markdown",
   "metadata": {
    "run_control": {
     "frozen": false,
     "read_only": false
    }
   },
   "source": [
    "<h3> Proving Correctness </h3>\n",
    "\n",
    "Last but not least, our LP model seems to work correctly. However we better make sure by testing it in\n",
    "simple cases where the correct answer can be computed by hand."
   ]
  },
  {
   "cell_type": "code",
   "execution_count": null,
   "metadata": {
    "ExecuteTime": {
     "end_time": "2017-05-23T12:08:44.705815",
     "start_time": "2017-05-23T12:08:44.667636"
    },
    "collapsed": false,
    "run_control": {
     "frozen": false,
     "read_only": false
    }
   },
   "outputs": [],
   "source": [
    "import unittest\n",
    "import random\n",
    "\n",
    "class ModelingTest(unittest.TestCase):\n",
    "\n",
    "    def setUp(self):\n",
    "        \"\"\"Create a single Proton optimization model.\"\"\"\n",
    "        pass\n",
    "        \n",
    "    def mock_BED_data(self):\n",
    "        BED = np.array([[1, 10, 11], [1, 2, 3], [9, 10, 11]])\n",
    "        max_fractions = BED.shape[1] - 1\n",
    "        return BED, max_fractions \n",
    "    \n",
    "    def test_infinite_capacity(self):\n",
    "        \"\"\"When capacity is infinite, we expect max amount of fractions for all patients\"\"\"\n",
    "        BED, max_fractions = self.mock_BED_data()\n",
    "        inf_capacity = 10000\n",
    "        optimizer = LPOptimizer(BED, capacity = inf_capacity)\n",
    "        for patient, fractions in optimizer.get_optimum().items():\n",
    "            self.assertEqual(fractions, max_fractions)\n",
    "\n",
    "    def test_capacity_constraint(self):\n",
    "        \"\"\"An optimal model surely uses as many fractions as it can\"\"\"\n",
    "        BED, max_fractions = self.mock_BED_data()\n",
    "        num_patients = BED.shape[0]\n",
    "        \n",
    "        # Capacity should be unable to fulfill every patient\n",
    "        capacity = random.randint(1, max_fractions * num_patients)\n",
    "        \n",
    "        optimizer = LPOptimizer(BED, capacity = capacity)\n",
    "        solution = optimizer.get_optimum()\n",
    "        fractions_used = sum(solution.values())\n",
    "        self.assertEqual(fractions_used, capacity)\n",
    "\n",
    "    def tearDown(self):\n",
    "        \"\"\"Delete all models.\"\"\"\n",
    "        pass\n",
    "\n",
    "# Run tests\n",
    "a = ModelingTest()\n",
    "suite = unittest.TestLoader().loadTestsFromModule(a)\n",
    "unittest.TextTestRunner().run(suite)"
   ]
  }
 ],
 "metadata": {
  "anaconda-cloud": {},
  "hide_input": false,
  "kernelspec": {
   "display_name": "Python [conda root]",
   "language": "python",
   "name": "conda-root-py"
  },
  "language_info": {
   "codemirror_mode": {
    "name": "ipython",
    "version": 3
   },
   "file_extension": ".py",
   "mimetype": "text/x-python",
   "name": "python",
   "nbconvert_exporter": "python",
   "pygments_lexer": "ipython3",
   "version": "3.5.2"
  }
 },
 "nbformat": 4,
 "nbformat_minor": 2
}
