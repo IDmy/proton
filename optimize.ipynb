{
 "cells": [
  {
   "cell_type": "markdown",
   "metadata": {},
   "source": [
    "<h1>Proton Therapy Optimization</h1>"
   ]
  },
  {
   "cell_type": "markdown",
   "metadata": {},
   "source": [
    "## Naive modeling\n",
    "The first idea that comes to mind is to make a straight forward mathematical translation of the oral problem description. That would be to set a vector of $i$ integer variables $x_{i}$, representing the number of proton fractions that should be performed to patient $i$. \n",
    "\n",
    "We would then symbolize our input matrix as $c_{ij}$: the benefit of offering $j$ proton fractions to patient $i$. While this is a very intuitive model it suffers from a very non linear object function. In the simplest case where we would like to optimize the sum or average BED, the object functions to be maximized would be:\n",
    "\n",
    "\\begin{equation*}\n",
    "    \\begin{aligned}\n",
    "        \\underset{x}{\\text{max}}\n",
    "            & \\sum_{i} c_{ix_{i}}\\cdot x_{i} \n",
    "    \\end{aligned}     \n",
    "\\end{equation*}\n",
    "\n",
    "\n",
    "\n",
    "## A better modeling idea\n",
    "\n",
    "Instead we would prefer to go with a linear model. For that reason we could select another set of decision variables, that is a binary matrix $x_{ij}$ where a value of 1 denotes that $j$ fractions should be performed on patient $i$. Obviously we should constraint every rows sum to 1 (a patient will receive 0,1, ... **or** N fractions).\n",
    "\n",
    "Our object function can now be expressed as elegandly as:\n",
    "\\begin{equation*}\n",
    "    \\begin{aligned}\n",
    "            F(x)=  \\sum_{ij} c_{ij}\\cdot x_{ij} \n",
    "    \\end{aligned}     \n",
    "\\end{equation*}\n",
    "\n",
    "\n",
    "This is obviously as linear as it gets. Lets code it!"
   ]
  },
  {
   "cell_type": "code",
   "execution_count": 6,
   "metadata": {
    "collapsed": true
   },
   "outputs": [],
   "source": [
    "# GUROBI must be installed and a licence file must be discoverable in one of the default locations\n",
    "from gurobipy import *\n",
    "\n",
    "# Get some additional dependencies\n",
    "import pandas as pd\n",
    "import numpy as np"
   ]
  },
  {
   "cell_type": "code",
   "execution_count": 7,
   "metadata": {
    "collapsed": true
   },
   "outputs": [],
   "source": [
    "# Read the dataset into a 2d array. benefit[i,j] is the benefit patient i will get from j fractions\n",
    "data = pd.read_csv('data/PayoffMatrix.txt', delim_whitespace = True)\n",
    "benefit = data.values"
   ]
  },
  {
   "cell_type": "code",
   "execution_count": 8,
   "metadata": {
    "collapsed": true
   },
   "outputs": [],
   "source": [
    "class ProtonOptimizer(object):\n",
    "    \"\"\"\n",
    "    An abstract class defining a common interface to be used by all our future models.\n",
    "    Make sure you comply to the API meaning that your concrete class should:\n",
    "    1) Be constructed by providing the BED values as a 2D np array and the capacity\n",
    "    2) It should return its result by implementing the get_optimum() method\n",
    "    \"\"\"\n",
    "    def __init__(self, BED, capacity = 100, model_name = 'abstract_therapy'):\n",
    "        raise NotImplementedError(\"You cannot construct an abstract class\")\n",
    "    \n",
    "    def get_optimum():\n",
    "        \"\"\"Returns a dictionary (int -> int) from patient ID to fractions\"\"\"\n",
    "        return {}\n",
    "    \n",
    "    def pretty_print():\n",
    "        \"\"\"Override to print your models output in a meaningful way for debugging purposes\"\"\"\n",
    "        print(\"The optimum is \" + str(self.get_optimum()))"
   ]
  },
  {
   "cell_type": "code",
   "execution_count": 9,
   "metadata": {
    "collapsed": false
   },
   "outputs": [],
   "source": [
    "class LPOptimizer(ProtonOptimizer):\n",
    "    \"\"\"Concrete implementation of the ProtonOptimizer interface\"\"\"\n",
    "    def __init__(self, BED, capacity = 100, model_name = 'proton_therapy'):\n",
    "        self._BED = BED\n",
    "        num_patients, max_fractions_per_patient = BED.shape\n",
    "        self.patients = [i for i in range(num_patients)]\n",
    "        self.fractions = [j for j in range(max_fractions_per_patient)]\n",
    "        self.m = Model(model_name)\n",
    "        \n",
    "        # Set binary decision variables\n",
    "        self.x = self.m.addVars(num_patients, max_fractions_per_patient, vtype = GRB.BINARY) \n",
    "        \n",
    "        # Only one choice of fractions per patient is valid\n",
    "        self.m.addConstrs(quicksum(self.x[i,j] for j in self.fractions) == 1 for i in self.patients)\n",
    "        \n",
    "        # We can only perform so many proton therapies per week\n",
    "        self.m.addConstr(quicksum(\n",
    "            quicksum(self.x[i,j] * self.fractions[j] for j in self.fractions) \n",
    "            for i in self.patients) <= capacity)\n",
    "        self.m.update()\n",
    "        \n",
    "        self.optimum = {}\n",
    "\n",
    "        \n",
    "    def _solve(self, debug = False):\n",
    "        # Set objective\n",
    "        self.m.setObjective(quicksum(\n",
    "            self.x[i,j] * self._BED[i,j] for i in self.patients for j in self.fractions),\n",
    "                            GRB.MAXIMIZE)\n",
    "        \n",
    "        self.m.setParam('OutputFlag', debug)\n",
    "        self.m.update()\n",
    "        self.m.optimize()\n",
    "        if self.m.status == GRB.Status.OPTIMAL:\n",
    "            solution = self.m.getAttr(\"x\", self.x)\n",
    "            for i in self.patients:\n",
    "                for j in self.fractions:\n",
    "                    if(solution[i,j] == 1):\n",
    "                        self.optimum[i] = j\n",
    "                        break\n",
    "        else:\n",
    "            print(\"Infeasible model\")\n",
    "    \n",
    "    def pretty_print(self):\n",
    "        solution = self.get_optimum()\n",
    "        for patient, fractions in solution.items():\n",
    "            print((\"Patient \" + str(patient) + \" should receive \" + str(fractions) + \" fractions\"))\n",
    "        \n",
    "    def get_optimum(self):\n",
    "        if not self.optimum:\n",
    "            self._solve()\n",
    "        return self.optimum"
   ]
  },
  {
   "cell_type": "code",
   "execution_count": 10,
   "metadata": {
    "collapsed": false
   },
   "outputs": [
    {
     "name": "stderr",
     "output_type": "stream",
     "text": [
      "..\n",
      "----------------------------------------------------------------------\n",
      "Ran 2 tests in 0.009s\n",
      "\n",
      "OK\n"
     ]
    },
    {
     "data": {
      "text/plain": [
       "<unittest.runner.TextTestResult run=2 errors=0 failures=0>"
      ]
     },
     "execution_count": 10,
     "metadata": {},
     "output_type": "execute_result"
    }
   ],
   "source": [
    "import unittest\n",
    "import random\n",
    "\n",
    "class ModelingTest(unittest.TestCase):\n",
    "\n",
    "    def setUp(self):\n",
    "        \"\"\"Create a single Proton optimization model.\"\"\"\n",
    "        pass\n",
    "        \n",
    "    def mock_BED_data(self):\n",
    "        BED = np.array([[1, 10, 11], [1, 2, 3], [9, 10, 11]])\n",
    "        max_fractions = BED.shape[1] - 1\n",
    "        return BED, max_fractions \n",
    "    \n",
    "    def test_infinite_capacity(self):\n",
    "        \"\"\"When capacity is infinite, we expect max amount of fractions for all patients\"\"\"\n",
    "        BED, max_fractions = self.mock_BED_data()\n",
    "        inf_capacity = 10000\n",
    "        optimizer = LPOptimizer(BED, capacity = inf_capacity)\n",
    "        for patient, fractions in optimizer.get_optimum().items():\n",
    "            self.assertEqual(fractions, max_fractions)\n",
    "\n",
    "    def test_capacity_constraint(self):\n",
    "        \"\"\"An optimal model surely uses as many fractions as it can\"\"\"\n",
    "        BED, max_fractions = self.mock_BED_data()\n",
    "        num_patients = BED.shape[0]\n",
    "        \n",
    "        # Capacity should be unable to fulfill every patient\n",
    "        capacity = random.randint(1, max_fractions * num_patients)\n",
    "        \n",
    "        optimizer = LPOptimizer(BED, capacity = capacity)\n",
    "        solution = optimizer.get_optimum()\n",
    "        fractions_used = sum(solution.values())\n",
    "        self.assertEqual(fractions_used, capacity)\n",
    "\n",
    "    def tearDown(self):\n",
    "        \"\"\"Delete all models.\"\"\"\n",
    "        pass\n",
    "\n",
    "# Run tests\n",
    "a = ModelingTest()\n",
    "suite = unittest.TestLoader().loadTestsFromModule(a)\n",
    "unittest.TextTestRunner().run(suite)"
   ]
  },
  {
   "cell_type": "code",
   "execution_count": null,
   "metadata": {
    "collapsed": true
   },
   "outputs": [],
   "source": []
  }
 ],
 "metadata": {
  "kernelspec": {
   "display_name": "Venv",
   "language": "python",
   "name": "venv"
  },
  "language_info": {
   "codemirror_mode": {
    "name": "ipython",
    "version": 3
   },
   "file_extension": ".py",
   "mimetype": "text/x-python",
   "name": "python",
   "nbconvert_exporter": "python",
   "pygments_lexer": "ipython3",
   "version": "3.5.2"
  }
 },
 "nbformat": 4,
 "nbformat_minor": 2
}
