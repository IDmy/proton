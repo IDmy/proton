{
 "cells": [
  {
   "cell_type": "code",
   "execution_count": 1,
   "metadata": {
    "collapsed": false
   },
   "outputs": [
    {
     "ename": "ImportError",
     "evalue": "No module named 'pandas'",
     "output_type": "error",
     "traceback": [
      "\u001b[0;31m---------------------------------------------------------------------------\u001b[0m",
      "\u001b[0;31mImportError\u001b[0m                               Traceback (most recent call last)",
      "\u001b[0;32m<ipython-input-1-933dce19711e>\u001b[0m in \u001b[0;36m<module>\u001b[0;34m()\u001b[0m\n\u001b[1;32m      2\u001b[0m \u001b[0;34m\u001b[0m\u001b[0m\n\u001b[1;32m      3\u001b[0m \u001b[0;31m# Get some additional dependencies\u001b[0m\u001b[0;34m\u001b[0m\u001b[0;34m\u001b[0m\u001b[0m\n\u001b[0;32m----> 4\u001b[0;31m \u001b[0;32mimport\u001b[0m \u001b[0mpandas\u001b[0m \u001b[0;32mas\u001b[0m \u001b[0mpd\u001b[0m\u001b[0;34m\u001b[0m\u001b[0m\n\u001b[0m\u001b[1;32m      5\u001b[0m \u001b[0;32mimport\u001b[0m \u001b[0mnumpy\u001b[0m \u001b[0;32mas\u001b[0m \u001b[0mnp\u001b[0m\u001b[0;34m\u001b[0m\u001b[0m\n\u001b[1;32m      6\u001b[0m \u001b[0;32mimport\u001b[0m \u001b[0mrandom\u001b[0m\u001b[0;34m\u001b[0m\u001b[0m\n",
      "\u001b[0;31mImportError\u001b[0m: No module named 'pandas'"
     ]
    }
   ],
   "source": [
    "#from gurobipy import *\n",
    "\n",
    "# Get some additional dependencies\n",
    "import pandas as pd\n",
    "import numpy as np\n",
    "import random\n",
    "import math"
   ]
  },
  {
   "cell_type": "code",
   "execution_count": 5,
   "metadata": {
    "collapsed": true
   },
   "outputs": [],
   "source": [
    "# Read the dataset\n",
    "data = pd.read_csv('../data.csv')\n",
    "data.replace('-', 1, inplace = True)\n",
    "city_names = list(data)[1:]\n",
    "\n",
    "# Denote model variables\n",
    "N = len(data)\n",
    "M = len(data)\n",
    "DC = [i for i in range(0, N)]\n",
    "DA = [i for i in range(0, M)]\n",
    "\n",
    "# Hold a mapping from indexes to city names for showing results later\n",
    "cities = dict(zip(DC, city_names))\n",
    "\n",
    "# Get input data as a distance matrix for fast random access\n",
    "distance = data.as_matrix()[:,1:].astype(int)\n",
    "\n",
    "# DCs and DAs have no ordering, therefore I will represent them as sets\n",
    "DC = set(DC)\n",
    "DA = set(DA)"
   ]
  },
  {
   "cell_type": "code",
   "execution_count": 2,
   "metadata": {
    "collapsed": false
   },
   "outputs": [
    {
     "ename": "NameError",
     "evalue": "name 'city_names' is not defined",
     "output_type": "error",
     "traceback": [
      "\u001b[0;31m---------------------------------------------------------------------------\u001b[0m",
      "\u001b[0;31mNameError\u001b[0m                                 Traceback (most recent call last)",
      "\u001b[0;32m<ipython-input-2-aeb7573ae724>\u001b[0m in \u001b[0;36m<module>\u001b[0;34m()\u001b[0m\n\u001b[1;32m      1\u001b[0m \u001b[0;31m# Hyper parameters - these will never change in this assignment\u001b[0m\u001b[0;34m\u001b[0m\u001b[0;34m\u001b[0m\u001b[0m\n\u001b[1;32m      2\u001b[0m \u001b[0mFIXED_DEMAND\u001b[0m \u001b[0;34m=\u001b[0m \u001b[0;36m100\u001b[0m\u001b[0;34m\u001b[0m\u001b[0m\n\u001b[0;32m----> 3\u001b[0;31m \u001b[0mFIXED_CAPACITY\u001b[0m \u001b[0;34m=\u001b[0m \u001b[0mlen\u001b[0m\u001b[0;34m(\u001b[0m\u001b[0mcity_names\u001b[0m\u001b[0;34m)\u001b[0m \u001b[0;34m*\u001b[0m \u001b[0mFIXED_DEMAND\u001b[0m\u001b[0;34m\u001b[0m\u001b[0m\n\u001b[0m\u001b[1;32m      4\u001b[0m \u001b[0mFIXED_COST\u001b[0m \u001b[0;34m=\u001b[0m \u001b[0;36m100000\u001b[0m\u001b[0;34m\u001b[0m\u001b[0m\n\u001b[1;32m      5\u001b[0m \u001b[0mNUM_OPENED\u001b[0m \u001b[0;34m=\u001b[0m \u001b[0;36m7\u001b[0m\u001b[0;34m\u001b[0m\u001b[0m\n",
      "\u001b[0;31mNameError\u001b[0m: name 'city_names' is not defined"
     ]
    }
   ],
   "source": [
    "# Hyper parameters - these will never change in this assignment\n",
    "FIXED_DEMAND = 100\n",
    "FIXED_CAPACITY = len(city_names) * FIXED_DEMAND\n",
    "FIXED_COST = 100000\n",
    "NUM_OPENED = 7\n",
    "\n",
    "S = FIXED_CAPACITY * np.ones(N)\n",
    "D = FIXED_DEMAND * np.ones(M)"
   ]
  },
  {
   "cell_type": "code",
   "execution_count": 20,
   "metadata": {
    "collapsed": false
   },
   "outputs": [],
   "source": [
    "def nearest_neighbor(here, world):\n",
    "    min_distance = 10000\n",
    "    closest = -1\n",
    "    for place in world:\n",
    "        if(distance[here, place] < min_distance):\n",
    "            min_distance = distance[here, place]\n",
    "            closest = place\n",
    "    return min_distance, closest\n",
    "        \n",
    "    \n",
    "\n",
    "def compute_cost(opened):\n",
    "    \"\"\"Given a set of opened DCs, computes the total transportation costs to satisfy all DAs\"\"\"    \n",
    "    cost = 0\n",
    "    for da in DA:\n",
    "        dist, _ = nearest_neighbor(da, opened)\n",
    "        cost += dist     \n",
    "    return cost\n",
    "\n",
    "def update_temp(T, rep):\n",
    "    re\n",
    "    turn T/math.log(rep + 1)\n",
    "\n",
    "def maybe_mutate(opened, T):\n",
    "    \"\"\"\n",
    "    Mutates a solution to a random neighbor. Note: this is not referentially transparent and therefore\n",
    "    not thread safe.\n",
    "    \"\"\"\n",
    "    def get_neighbor():\n",
    "        check = opened.copy()\n",
    "        previous = random.sample(opened, 1)[0]\n",
    "        _, new = nearest_neighbor(previous, DC.difference(opened))\n",
    "        check.remove(previous)\n",
    "        check.add(new)\n",
    "        return check\n",
    "    \n",
    "\n",
    "    original_cost = compute_cost(opened)\n",
    "    neighbor = get_neighbor()\n",
    "    new_cost = compute_cost(neighbor)\n",
    "    delta = new_cost - original_cost\n",
    "    \n",
    "    # Should we make the transition?\n",
    "    p = random.random();\n",
    "    if(p <= math.exp((-1*delta)/(T*1.0)) or delta < 0):\n",
    "        return neighbor\n",
    "    return opened\n",
    "\n",
    "def simulated_annealing(start_T = 1000, stop_T = 0.001, max_reps = 40000):\n",
    "    print(\"Starting annealing....\")\n",
    "    # Get an initial solution\n",
    "    opened = set(random.sample(DC, NUM_OPENED))\n",
    "    \n",
    "    # Best solution found globally\n",
    "    optimum = opened.copy()\n",
    "    optimal_cost = compute_cost(optimum)\n",
    "    \n",
    "    rep = 1\n",
    "    T = start_T\n",
    "    \n",
    "    while(T > stop_T and rep < max_reps):\n",
    "        opened = maybe_mutate(opened, T)\n",
    "        if(compute_cost(opened) < optimal_cost):\n",
    "            optimum = opened.copy()\n",
    "            optimal_cost = compute_cost(opened)\n",
    "            \n",
    "        T = update_temp(start_T, rep)\n",
    "        rep += 1\n",
    "    \n",
    "    print(\"Best solution found: \" + str(optimum) + \n",
    "          \"\\nwith total transportation costs: \" + str(optimal_cost))\n",
    "    "
   ]
  },
  {
   "cell_type": "markdown",
   "metadata": {},
   "source": [
    "We can now evaluate the convergence of our heuristic since we now the global optimum solution from\n",
    "the LP implementation (see assignment 2). The optimal solution is opening the following DCs:\n",
    "\n",
    "* Athens   -   **2**\n",
    "* Madrid   -  **20**\n",
    "* Naples   -  **24**\n",
    "* Turin    -  **33**\n",
    "* Munich   -  **23**\n",
    "* Hamburg  -  **14**\n",
    "* Brussels -  ** 6**\n",
    "\n",
    "This solution gives us the minimum achievable cost of **L = 9855**"
   ]
  },
  {
   "cell_type": "code",
   "execution_count": 21,
   "metadata": {
    "collapsed": false,
    "scrolled": true
   },
   "outputs": [
    {
     "name": "stdout",
     "output_type": "stream",
     "text": [
      "Starting annealing....\n",
      "Best solution found: {5, 21, 22, 8, 13, 14, 31}\n",
      "with total transportation costs: 15451\n"
     ]
    }
   ],
   "source": [
    "simulated_annealing()\n"
   ]
  },
  {
   "cell_type": "markdown",
   "metadata": {
    "collapsed": true
   },
   "source": [
    "The results are nowhere close the global optimum, however depending on our specific needs they could be considered \"good enough\". Since this is a stochastic heuristic, its results are not reproducible (every run will yield a different solution). However a sample result in acceptable runtime is the set:\n",
    "\n",
    "**{1, 17, 20, 5, 28, 13, 31}** yielding a cost **L = 12165**\n",
    "\n"
   ]
  }
 ],
 "metadata": {
  "kernelspec": {
   "display_name": "Venv",
   "language": "python",
   "name": "venv"
  },
  "language_info": {
   "codemirror_mode": {
    "name": "ipython",
    "version": 3
   },
   "file_extension": ".py",
   "mimetype": "text/x-python",
   "name": "python",
   "nbconvert_exporter": "python",
   "pygments_lexer": "ipython3",
   "version": "3.5.2"
  }
 },
 "nbformat": 4,
 "nbformat_minor": 2
}
