{
 "cells": [
  {
   "cell_type": "markdown",
   "metadata": {
    "collapsed": false
   },
   "source": [
    "<h1> Facility Allocation Problem </h1>\n",
    "\n",
    "<h3> Problem description </h3>\n",
    "\n",
    "A company wants to set up a new European distribution network. There are *N* possible locations for a distribution center - **DC**. Fixed costs per year for opening a distribution center at location *i* (with a certain capacity **S(i)** in pallets) are **F(i)**.  The total demand per year (in pallets) for each delivery address - **DA** - *j* is **D(j)**. The transport costs (in EURO) for one pallet between the DCs and delivery addresses are **c(i,j)**.\n",
    "\n",
    "\n",
    "**The question is: which DCs will be opened?**"
   ]
  },
  {
   "cell_type": "markdown",
   "metadata": {},
   "source": [
    "We will use the **GUROBI** framework to solve this linear problem. After acquiring and installing a licence \n",
    "we can import it into our notebook."
   ]
  },
  {
   "cell_type": "code",
   "execution_count": 1,
   "metadata": {
    "collapsed": true
   },
   "outputs": [],
   "source": [
    "from gurobipy import *\n",
    "\n",
    "# Get some additional dependencies\n",
    "import pandas as pd\n",
    "import numpy as np"
   ]
  },
  {
   "cell_type": "markdown",
   "metadata": {},
   "source": [
    "Lets start by denoting the list of our *N* distribution centers as well as the *M* delivery addresses.\n",
    "\n",
    "**Note:** \n",
    "Intuitively the distance between a city and itself should be zero. However that would result to a matrix with 0s in its diagonal and therefore the determinant cannot be computed. This seems to yield some issues\n",
    "with the LP solver, maybe GUROBI uses matrix inversion at some point? We will never know since its closed source. Anyway i just set these distances to 1 instead and things seem to work fine."
   ]
  },
  {
   "cell_type": "code",
   "execution_count": 2,
   "metadata": {
    "collapsed": false
   },
   "outputs": [],
   "source": [
    "# Read the dataset\n",
    "data = pd.read_csv('../data.csv')\n",
    "data.replace('-', 1, inplace = True)\n",
    "city_names = list(data)[1:]\n",
    "\n",
    "# Denote model variables\n",
    "N = len(data)\n",
    "M = len(data)\n",
    "DC = [i for i in range(0, N)]\n",
    "DA = [i for i in range(0, M)]\n",
    "\n",
    "# Hold a mapping from indexes to city names for showing results later\n",
    "cities = dict(zip(DC, city_names))"
   ]
  },
  {
   "cell_type": "markdown",
   "metadata": {},
   "source": [
    "Lets also denote the capacity **S** of every DC, and the demand **D** on every DA in pallets:"
   ]
  },
  {
   "cell_type": "code",
   "execution_count": 3,
   "metadata": {
    "collapsed": false
   },
   "outputs": [],
   "source": [
    "# Hyper parameters - will never change in this assignment\n",
    "HUGE_CONSTANT = 1000000000000\n",
    "FIXED_DEMAND = 100\n",
    "\n",
    "S = HUGE_CONSTANT * np.ones(N)\n",
    "D = FIXED_DEMAND * np.ones(M)"
   ]
  },
  {
   "cell_type": "markdown",
   "metadata": {},
   "source": [
    "Finally, lets denote the given transportation cost per unit of pallets between DCs and DAs:"
   ]
  },
  {
   "cell_type": "code",
   "execution_count": 4,
   "metadata": {
    "collapsed": false
   },
   "outputs": [],
   "source": [
    "# Transform the pandas dataframe to a GUROBI aware dictionary\n",
    "arr = data.as_matrix()[:,1:]\n",
    "c = dict(((i,j), arr[i][j]) for i in range(len(arr)) for j in range(len(arr[0])))\n",
    "\n",
    "arcs = list(c.keys())"
   ]
  },
  {
   "cell_type": "markdown",
   "metadata": {},
   "source": [
    "Now that we have initiallized our inputs we are ready to construct our model.\n",
    "Note that we include two constraints on our flow variable *x* directly into its declaration:"
   ]
  },
  {
   "cell_type": "code",
   "execution_count": 5,
   "metadata": {
    "collapsed": false
   },
   "outputs": [],
   "source": [
    "m = Model('facility_allocation')\n",
    "\n",
    "x = {}\n",
    "for i,j in arcs:\n",
    "    x[i,j] = m.addVar(lb = 0,\n",
    "                      vtype = GRB.CONTINUOUS, name='flow_%s_%s' % (i, j))\n"
   ]
  },
  {
   "cell_type": "markdown",
   "metadata": {},
   "source": [
    "We also need the set of binary variables **Z**, where **z[i]** is True when DC *i* is open.\n",
    "This condition can be expressed using the constraint x[i,j] <= M * z[i] where M is a sufficiently big value."
   ]
  },
  {
   "cell_type": "code",
   "execution_count": 6,
   "metadata": {
    "collapsed": false
   },
   "outputs": [],
   "source": [
    "z = {}\n",
    "for i in DC:\n",
    "    z[i] = m.addVar(0.0, 1.0, 1.0, GRB.BINARY, 'isOpen_%s' % i)\n",
    "    \n",
    "m.addConstrs((quicksum(x[i,j] for j in DA) <= HUGE_CONSTANT * z[i]) for i in DC)\n",
    "m.update()\n"
   ]
  },
  {
   "cell_type": "markdown",
   "metadata": {},
   "source": [
    "Lets also apply additional constraints inferred from the problem statement. Namely, \n",
    "\n",
    "**The total amount sent to each DA should satisfy its demand**"
   ]
  },
  {
   "cell_type": "code",
   "execution_count": 7,
   "metadata": {
    "collapsed": false
   },
   "outputs": [],
   "source": [
    "m.addConstrs((quicksum(x[i,j] for i in DC) >= D[j]) for j in DA)\n",
    "m.update()"
   ]
  },
  {
   "cell_type": "markdown",
   "metadata": {},
   "source": [
    "**The total amount sent from each DC should be at most equal to its capacity**"
   ]
  },
  {
   "cell_type": "code",
   "execution_count": 8,
   "metadata": {
    "collapsed": false
   },
   "outputs": [],
   "source": [
    "m.addConstrs((quicksum(x[i,j] for j in DA) <= S[i]) for i in DC)\n",
    "m.update()"
   ]
  },
  {
   "cell_type": "markdown",
   "metadata": {},
   "source": [
    "At this point we are ready to define our objective function: The total cost.\n",
    "This will obviously be equal to the sum of fixed and transportation costs."
   ]
  },
  {
   "cell_type": "code",
   "execution_count": 9,
   "metadata": {
    "collapsed": false
   },
   "outputs": [],
   "source": [
    "def optimize(fixed_cost = 0):\n",
    "    F = fixed_cost * np.ones(N)\n",
    "    obj = LinExpr(0.0);\n",
    "    obj.addTerms((c[i,j] for i in DC for j in DA), (x[i,j] for i in DC for j in DA))\n",
    "    obj.addTerms((F[i] for i in DC), (z[i] for i in DC))\n",
    "    m.setObjective(obj, GRB.MINIMIZE)\n",
    "    m.setParam('OutputFlag', 0)\n",
    "    m.update()\n",
    "    m.optimize()"
   ]
  },
  {
   "cell_type": "code",
   "execution_count": 13,
   "metadata": {
    "collapsed": false
   },
   "outputs": [],
   "source": [
    "opened = set()\n",
    "if m.status == GRB.Status.OPTIMAL:\n",
    "    solution = m.getAttr(\"x\", x)\n",
    "    for i,j in arcs:\n",
    "        if solution[i,j] > 0:\n",
    "            opened.add(city_names[i])\n",
    "            print('%s -> %s: %g' % (city_names[i], city_names[j], solution[i,j]))\n",
    "            \n",
    "#print(\"\\n\\n\" + str(len(opened)) + \" DCs were opened\")"
   ]
  },
  {
   "cell_type": "markdown",
   "metadata": {},
   "source": [
    "Our model is now complete. Lets define a macro parameter tuning function.\n",
    "This should read a value for fixed costs, optimize the model and report\n",
    "the optimal number of DCs for that value. "
   ]
  },
  {
   "cell_type": "code",
   "execution_count": 14,
   "metadata": {
    "collapsed": false
   },
   "outputs": [],
   "source": [
    "def optimal_DC_num(fixed_cost = 100000):\n",
    "    optimize(fixed_cost)\n",
    "    if m.status == GRB.Status.OPTIMAL:\n",
    "        opened = set()\n",
    "        solution = m.getAttr(\"x\", x)\n",
    "        for i,j in arcs:\n",
    "            if solution[i,j] > 0:\n",
    "                opened.add(city_names[i])\n",
    "        return len(opened)\n",
    "\n",
    "\n"
   ]
  },
  {
   "cell_type": "markdown",
   "metadata": {},
   "source": [
    "**For which values of F we have that 1 DC is optimal? Which DC is then open? Same questions for 2, 3, 4, 5, 6, 7  DCs open.**\n",
    "\n",
    "There is no easy way to automate the search since the mapping from fixed costs to optimal number of DCs is a blackbox. Of course I could write a recursive search (binary) but this would probably be out of scope. I therefore choose to manually search the fixed costs space using binary search. In order to accerelate this procedure we can try some points within a reasonable range of costs and get an idea of the\n",
    "resulting DCs. We can then use that insight to start from a close range of costs at each iteration."
   ]
  },
  {
   "cell_type": "code",
   "execution_count": 15,
   "metadata": {
    "collapsed": false
   },
   "outputs": [
    {
     "name": "stdout",
     "output_type": "stream",
     "text": [
      "1\n",
      "7\n",
      "1\n",
      "2\n",
      "2\n",
      "1\n",
      "2\n"
     ]
    }
   ],
   "source": [
    "# Searching for 1 DC optimal\n",
    "\n",
    "print(optimal_DC_num(1000000)) # output is 1\n",
    "print(optimal_DC_num(500000)) # output is 7\n",
    "print(optimal_DC_num(750000)) # output is 1\n",
    "print(optimal_DC_num(600000)) # output is 2\n",
    "print(optimal_DC_num(700000)) # output is 2\n",
    "print(optimal_DC_num(730000)) # output is 1\n",
    "print(optimal_DC_num(720000)) # output is 2\n",
    "# Aha! turning point lies between 720 and 730k! This is accurate enough right...?\n"
   ]
  },
  {
   "cell_type": "markdown",
   "metadata": {},
   "source": [
    "Using the approximation above we can see that **1 DC is opened for fixed costs higher than 730,000 euros.**\n",
    "\n",
    "In that case, the DC is opened at **Strasbourg**. Some testing easily shows that this city has the minimum sum\n",
    "of distances from all other cities in the dataset, therefore the result seems reasonable"
   ]
  },
  {
   "cell_type": "markdown",
   "metadata": {},
   "source": [
    "**Using the same method in combination with our insight we get the following mapping:**\n",
    "* 1 DC is optimal for fixed costs higher than 730,000 **[Strasburg]**\n",
    "* 2 DCs are optimal for fixed costs between 330,000 and 730,000 **[Turin, Antwerp]**\n",
    "* 3 DCs are optimal for fixed costs between 255,000 and 330,000 **[Milan, Antwerp, Madrid]**\n",
    "* 4 DCs are optimal for fixed costs between 221,000 and 255,000 **[Milan, Antwerp, Madrid, Munich]**\n",
    "* 5 DCs are optimal for fixed costs between 150,000 and 220,000 **[...]**\n",
    "* 6 DCs are optimal for fixed costs between 130,000 and 150,000 **[...]**\n",
    "* 7 DCs are optimal for fixed costs between 100,000 and 130,000 **[...]**"
   ]
  },
  {
   "cell_type": "code",
   "execution_count": 13,
   "metadata": {
    "collapsed": false
   },
   "outputs": [
    {
     "name": "stdout",
     "output_type": "stream",
     "text": [
      "Turin -> Venice: 100\n",
      "Turin -> Lyon: 100\n",
      "Antwerp -> Brussels: 100\n",
      "Turin -> Madrid: 100\n",
      "Antwerp -> Lisbon: 100\n",
      "Turin -> Geneva: 100\n",
      "Turin -> Bern: 100\n",
      "Antwerp -> Cologne: 100\n",
      "Antwerp -> Antwerp: 100\n",
      "Turin -> Munich: 100\n",
      "Antwerp -> Paris: 100\n",
      "Turin -> Turin: 100\n",
      "Antwerp -> The Hague: 100\n",
      "Antwerp -> Frankfurt: 100\n",
      "Turin -> Nice: 100\n",
      "Antwerp -> Strasbourg: 100\n",
      "Turin -> Barcelona: 100\n",
      "Antwerp -> Le Havre: 100\n",
      "Antwerp -> Amsterdam: 100\n",
      "Turin -> Milan: 100\n",
      "Antwerp -> Luxembourg: 100\n",
      "Antwerp -> Edinburgh: 100\n",
      "Turin -> Naples: 100\n",
      "Antwerp -> Berlin: 100\n",
      "Antwerp -> Rotterdam: 100\n",
      "Turin -> Vienna: 100\n",
      "Turin -> Zurich: 100\n",
      "Turin -> Athens: 100\n",
      "Antwerp -> Hamburg: 100\n",
      "Turin -> Rome: 100\n",
      "Antwerp -> Calais: 100\n",
      "Turin -> Marseille: 100\n",
      "Antwerp -> London: 100\n",
      "Turin -> Genoa: 100\n",
      "Antwerp -> Copenhagen: 100\n",
      "Turin -> Stuttgart: 100\n",
      "Antwerp -> Prague: 100\n",
      "\n",
      "\n",
      "{'Turin', 'Antwerp'} DCs were opened\n"
     ]
    }
   ],
   "source": [
    "# Where should the DC be opened?\n",
    "optimize(500000)\n",
    "\n",
    "if m.status == GRB.Status.OPTIMAL:\n",
    "    opened = set()\n",
    "    solution = m.getAttr(\"x\", x)\n",
    "    for i,j in arcs:\n",
    "        if solution[i,j] > 0:\n",
    "            opened.add(city_names[i])\n",
    "            print('%s -> %s: %g' % (city_names[i], city_names[j], solution[i,j]))\n",
    "            \n",
    "print(\"\\n\\n\" + str(opened) + \" DCs were opened\")\n",
    "        "
   ]
  },
  {
   "cell_type": "code",
   "execution_count": null,
   "metadata": {
    "collapsed": true
   },
   "outputs": [],
   "source": []
  }
 ],
 "metadata": {
  "kernelspec": {
   "display_name": "Venv",
   "language": "python",
   "name": "venv"
  },
  "language_info": {
   "codemirror_mode": {
    "name": "ipython",
    "version": 3
   },
   "file_extension": ".py",
   "mimetype": "text/x-python",
   "name": "python",
   "nbconvert_exporter": "python",
   "pygments_lexer": "ipython3",
   "version": "3.5.2"
  }
 },
 "nbformat": 4,
 "nbformat_minor": 2
}
