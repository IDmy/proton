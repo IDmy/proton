{
 "cells": [
  {
   "cell_type": "code",
   "execution_count": null,
   "metadata": {
    "ExecuteTime": {
     "end_time": "2017-05-15T13:38:16.572829",
     "start_time": "2017-05-15T13:38:16.562803"
    },
    "collapsed": false,
    "run_control": {
     "frozen": false,
     "read_only": false
    },
    "scrolled": true
   },
   "outputs": [],
   "source": [
    "import pandas as pd\n",
    "MAX_PROTON_FRACTIONS = 15\n",
    "df = pd.read_csv('data/PayoffMatrix.txt', sep='   ', names=[str(i) + '_prots' for i in range(0,MAX_PROTON_FRACTIONS+1)])\n",
    "patient_num = df.shape[0]"
   ]
  },
  {
   "cell_type": "code",
   "execution_count": null,
   "metadata": {
    "ExecuteTime": {
     "end_time": "2017-05-15T13:38:19.927789",
     "start_time": "2017-05-15T13:38:17.927387"
    },
    "collapsed": false,
    "run_control": {
     "frozen": false,
     "read_only": false
    }
   },
   "outputs": [],
   "source": [
    "import itertools\n",
    "import math\n",
    "import matplotlib.pyplot as plt\n",
    "colors = ['b', 'g', 'r', 'c', 'm', 'y', 'k']\n",
    "linestyles = ['_', '-', '--', ':']\n",
    "color_styles = list(itertools.product(colors,linestyles))\n",
    "print(range(0,patient_num-1))\n",
    "\n",
    "\n",
    "def plot_patients(absolute = True):\n",
    "    Y_plots = 5 # plots per row\n",
    "    if absolute:\n",
    "        title = \"Absolute scale\"\n",
    "        fig, axarr = plt.subplots(math.ceil((patient_num) / Y_plots), Y_plots, sharex=True, sharey=True) #sharex='col', sharey='row'\n",
    "    else:\n",
    "        title = \"Relative scale\"\n",
    "        fig, axarr = plt.subplots(math.ceil((patient_num) / Y_plots), Y_plots, sharex=True) #sharex='col', sharey='row'\n",
    "    for i in range(0,patient_num):\n",
    "        x,y = math.floor(i / Y_plots), i % Y_plots\n",
    "        axarr[x,y].plot(range(0,MAX_PROTON_FRACTIONS+1), df.loc[i,], 'ro')#''.join(color_styles[i])\n",
    "        axarr[x,y].set_title('Patient' + str(i))\n",
    "    #f.subplots_adjust(hspace=0.3)\n",
    "    fig.suptitle(title, fontsize=20)\n",
    "    fig.set_size_inches(18.5, 8)\n",
    "    fig.text(0.5, 0.04, '#Proton Fractions', ha='center', fontsize=16)\n",
    "    fig.text(0.08, 0.5, 'BED', va='center', rotation='vertical', fontsize=16)\n",
    "    plt.show()\n",
    "plot_patients(True)"
   ]
  },
  {
   "cell_type": "code",
   "execution_count": null,
   "metadata": {
    "ExecuteTime": {
     "end_time": "2017-05-18T14:19:31.186376",
     "start_time": "2017-05-18T14:19:31.013921"
    },
    "collapsed": false,
    "run_control": {
     "frozen": false,
     "read_only": false
    },
    "scrolled": false
   },
   "outputs": [],
   "source": [
    "#convex interpolation\n",
    "from scipy.interpolate import interp1d\n",
    "import numpy as np\n",
    "\n",
    "x = np.linspace(0, 10, num=11, endpoint=True)\n",
    "y = np.cos(-x**2/9.0)\n",
    "f = interp1d(x, y)\n",
    "f2 = interp1d(x, y, kind='cubic')\n",
    "xnew = np.linspace(0, 10, num=41, endpoint=True)\n",
    "import matplotlib.pyplot as plt\n",
    "plt.plot(x, y, 'o', xnew, f(xnew), '-', xnew, f2(xnew), '--')\n",
    "plt.legend(['data', 'linear', 'cubic'], loc='best')\n",
    "plt.show()\n",
    "x"
   ]
  }
 ],
 "metadata": {
  "anaconda-cloud": {},
  "hide_input": false,
  "kernelspec": {
   "display_name": "Python [conda root]",
   "language": "python",
   "name": "conda-root-py"
  },
  "language_info": {
   "codemirror_mode": {
    "name": "ipython",
    "version": 3
   },
   "file_extension": ".py",
   "mimetype": "text/x-python",
   "name": "python",
   "nbconvert_exporter": "python",
   "pygments_lexer": "ipython3",
   "version": "3.5.2"
  },
  "nbTranslate": {
   "displayLangs": [
    "*"
   ],
   "hotkey": "alt-t",
   "langInMainMenu": true,
   "sourceLang": "en",
   "targetLang": "fr",
   "useGoogleTranslate": true
  },
  "toc": {
   "colors": {
    "hover_highlight": "#DAA520",
    "running_highlight": "#FF0000",
    "selected_highlight": "#FFD700"
   },
   "moveMenuLeft": true,
   "nav_menu": {
    "height": "12px",
    "width": "252px"
   },
   "navigate_menu": true,
   "number_sections": true,
   "sideBar": true,
   "threshold": 4,
   "toc_cell": false,
   "toc_section_display": "block",
   "toc_window_display": false
  }
 },
 "nbformat": 4,
 "nbformat_minor": 1
}
